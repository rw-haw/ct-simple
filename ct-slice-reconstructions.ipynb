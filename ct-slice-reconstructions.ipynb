{
 "cells": [
  {
   "cell_type": "markdown",
   "metadata": {},
   "source": [
    "# X-ray Imaging and Reconstruction\n",
    "\n",
    "* The following examples simulate recording x-ray projections and their reconstruction by applying the inverse radon transform in a simplified manner"
   ]
  },
  {
   "cell_type": "markdown",
   "metadata": {},
   "source": [
    "## Simple Geometric Objects\n",
    "\n",
    "* The following snippet allows to place different simple geometric objects into the image plane, i.e. uniform squares or discs of different size, number and random position.\n",
    "* Widgets like sliders and buttons can be used to visualize the impact on the reconstruction\n",
    "  * Number of projections\n",
    "  * Type of reconstruction filter to compare backprojection (None) against filtered backprojection (any other filter)\n",
    "* Some parameters are fixed\n",
    "  * Angle range is from 0° to 180°\n",
    "  * Image plane is 256x256 pixels"
   ]
  },
  {
   "cell_type": "code",
   "execution_count": null,
   "metadata": {},
   "outputs": [],
   "source": [
    "import matplotlib\n",
    "import numpy as np\n",
    "import matplotlib.pyplot as plt\n",
    "from skimage.draw import disk, rectangle\n",
    "from skimage.transform import radon, iradon\n",
    "from ipywidgets import interact, IntSlider, Dropdown, ToggleButton, interactive_output, VBox,\n"
   ]
  },
  {
   "cell_type": "code",
   "execution_count": 19,
   "metadata": {},
   "outputs": [],
   "source": [
    "\n",
    "# Global variable to store random seed for reproducibility between redistributions\n",
    "current_random_seed = np.random.randint(0, 1e6)\n",
    "\n",
    "# Function to generate a scene with squares or discs\n",
    "def generate_scene(object_type, num_objects, object_size, seed=None):\n",
    "    if seed is not None:\n",
    "        np.random.seed(seed)\n",
    "    scene = np.zeros((256, 256), dtype=np.float32)\n",
    "    \n",
    "    # Randomly place objects\n",
    "    for _ in range(num_objects):\n",
    "        center_x, center_y = np.random.randint(0, 256, 2)\n",
    "        \n",
    "        if object_type == \"Squares\":\n",
    "            # Define square bounds and draw it\n",
    "            half_size = object_size // 2\n",
    "            top_left = (max(center_x - half_size, 0), max(center_y - half_size, 0))\n",
    "            bottom_right = (min(center_x + half_size, 255), min(center_y + half_size, 255))\n",
    "            rr, cc = rectangle(start=top_left, end=bottom_right)\n",
    "            scene[rr, cc] = 1  # Uniform square intensity\n",
    "        \n",
    "        elif object_type == \"Discs\":\n",
    "            # Define and draw a disc\n",
    "            rr, cc = disk((center_x, center_y), radius=object_size // 2, shape=scene.shape)\n",
    "            scene[rr, cc] = 1  # Uniform disc intensity\n",
    "    \n",
    "    return scene\n",
    "\n",
    "# Function to simulate the Radon transform, projections, and reconstruction\n",
    "def simulate_reconstruction(object_type, num_objects, object_size, num_angles, filter_type, selected_projection, redistribute_objects):\n",
    "    global current_random_seed\n",
    "    # If redistribution is requested, update the seed to get a new random configuration\n",
    "    if redistribute_objects:\n",
    "        current_random_seed = np.random.randint(0, 1e6)\n",
    "        redistribute_toggle_button.value = False  # Reset toggle button after redistribution\n",
    "    \n",
    "    # Generate the scene with squares or discs using the current random seed\n",
    "    scene = generate_scene(object_type, num_objects, object_size, seed=current_random_seed)\n",
    "    \n",
    "    # Generate projection angles\n",
    "    theta = np.linspace(0., 180., num_angles, endpoint=False)\n",
    "    \n",
    "    # Radon transform (simulating projections)\n",
    "    sinogram = radon(scene, theta=theta, circle=True)\n",
    "    \n",
    "    # Reconstruction using Filtered Back Projection (FBP)\n",
    "    reconstructed_image = iradon(sinogram, theta=theta, filter_name=filter_type, circle=True)\n",
    "    \n",
    "    fig, axes = plt.subplots(1, 4, figsize=(16, 4))\n",
    "    ax = axes.ravel()\n",
    "    \n",
    "    # Plot the original scene\n",
    "    ax[0].set_title(\"Original Scene\")\n",
    "    ax[0].imshow(scene, cmap='gray')\n",
    "    ax[0].axis('off')\n",
    "    \n",
    "    # Plot the sinogram with a vertical line indicating the selected projection\n",
    "    ax[1].set_title(f\"Sinogram (Angles: {num_angles})\")\n",
    "    ax[1].imshow(sinogram, cmap='gray', aspect='auto')\n",
    "    ax[1].axvline(x=selected_projection, color='red', linestyle='--')\n",
    "    ax[1].set_xlabel(\"Projection angle (index)\")\n",
    "    ax[1].set_ylabel(\"Projection position (pixels)\")\n",
    "    \n",
    "    # Plot the reconstructed image\n",
    "    ax[2].set_title(f\"Reconstruction\\n(Filter: {filter_type})\")\n",
    "    ax[2].imshow(reconstructed_image, cmap='gray')\n",
    "    ax[2].axis('off')\n",
    "    \n",
    "    # Plot the selected projection line\n",
    "    projection_data = sinogram[:, selected_projection]\n",
    "    ax[3].set_title(f\"Projection at Angle {theta[selected_projection]:.1f}°\")\n",
    "    ax[3].plot(projection_data, color='blue')\n",
    "    ax[3].set_xlabel(\"Position (pixels)\")\n",
    "    ax[3].set_ylabel(\"Intensity\")\n",
    "    \n",
    "    plt.tight_layout()\n",
    "    plt.show()\n",
    "\n",
    "# Interactive widgets with dynamic slider for selected_projection\n",
    "\n",
    "object_type_dropdown = Dropdown(\n",
    "    options=[\"Squares\", \"Discs\"],\n",
    "    value=\"Squares\",\n",
    "    description=\"Object Type\"\n",
    ")\n",
    "num_objects_slider = IntSlider(value=3, min=1, max=10, step=1, description=\"Number of Objects\")\n",
    "object_size_slider = IntSlider(value=20, min=0, max=50, step=1, description=\"Object Size\")\n",
    "num_angles_slider = IntSlider(value=30, min=1, max=256, step=1, description=\"Number of Angles\")\n",
    "filter_type_dropdown = Dropdown(\n",
    "    options=[\"ramp\", \"shepp-logan\", \"cosine\", \"hamming\", \"hann\", None],\n",
    "    value=\"ramp\",\n",
    "    description=\"Filter\"\n",
    ")\n",
    "\n",
    "\n",
    "# Initialize selected_projection slider\n",
    "selected_projection_slider = IntSlider(value=0, min=0, max=29, step=1, description=\"Projection Index\")\n",
    "\n",
    "# Function to update the max value of selected_projection slider based on num_angles\n",
    "def update_selected_projection_slider(num_angles):\n",
    "    selected_projection_slider.max = max(0, num_angles - 1)\n",
    "\n",
    "# Link num_angles to selected_projection max update\n",
    "num_angles_slider.observe(lambda change: update_selected_projection_slider(change['new']), names='value')\n",
    "\n",
    "# Toggle button to trigger random redistribution of objects\n",
    "redistribute_toggle_button = ToggleButton(value=False, description=\"Redistribute Objects\")\n",
    "\n",
    "# Set up the interactivity with dynamic dependency\n",
    "interactive_plot = interactive_output(\n",
    "    simulate_reconstruction,\n",
    "    {\n",
    "        'object_type': object_type_dropdown,\n",
    "        'num_objects': num_objects_slider,\n",
    "        'object_size': object_size_slider,\n",
    "        'num_angles': num_angles_slider,\n",
    "        'filter_type': filter_type_dropdown,\n",
    "        'selected_projection': selected_projection_slider,\n",
    "        'redistribute_objects': redistribute_toggle_button\n",
    "    }\n",
    ")\n"
   ]
  },
  {
   "cell_type": "markdown",
   "metadata": {},
   "source": [
    "* Move index of selected projection to 0 (or below number of projections) when decreasing number of projections"
   ]
  },
  {
   "cell_type": "code",
   "execution_count": 20,
   "metadata": {},
   "outputs": [
    {
     "data": {
      "application/vnd.jupyter.widget-view+json": {
       "model_id": "ea35b2a0f2a1486f8de31b565b5cb86b",
       "version_major": 2,
       "version_minor": 0
      },
      "text/plain": [
       "VBox(children=(Dropdown(description='Object Type', options=('Squares', 'Discs'), value='Squares'), IntSlider(v…"
      ]
     },
     "metadata": {},
     "output_type": "display_data"
    }
   ],
   "source": [
    "\n",
    "# Display all widgets and output\n",
    "display(VBox([\n",
    "    object_type_dropdown, \n",
    "    num_objects_slider, \n",
    "    object_size_slider, \n",
    "    num_angles_slider, \n",
    "    filter_type_dropdown, \n",
    "    selected_projection_slider, \n",
    "    redistribute_toggle_button,\n",
    "    interactive_plot\n",
    "]))\n"
   ]
  },
  {
   "cell_type": "markdown",
   "metadata": {},
   "source": [
    "## Shepp-Logan Phantom\n",
    "\n",
    "* Same with so called Shepp-Logan phantom (numerically ressembling slice of head)"
   ]
  },
  {
   "cell_type": "code",
   "execution_count": 17,
   "metadata": {},
   "outputs": [],
   "source": [
    "import numpy as np\n",
    "import matplotlib.pyplot as plt\n",
    "from skimage.data import shepp_logan_phantom\n",
    "from skimage.transform import radon, iradon\n",
    "from ipywidgets import interact, IntSlider, Dropdown, interactive_output\n"
   ]
  },
  {
   "cell_type": "code",
   "execution_count": 21,
   "metadata": {},
   "outputs": [],
   "source": [
    "\n",
    "# Generate the Shepp-Logan phantom image\n",
    "phantom = shepp_logan_phantom()\n",
    "phantom = phantom[::2, ::2]  # Resize to make it faster for demonstration\n",
    "\n",
    "# Function to perform Radon transform, simulate projections, and reconstruction\n",
    "def simulate_reconstruction(num_angles, filter_type, selected_projection):\n",
    "    # Generate projection angles\n",
    "    theta = np.linspace(0., 180., num_angles, endpoint=False)\n",
    "    \n",
    "    # Radon transform (simulating projections)\n",
    "    sinogram = radon(phantom, theta=theta, circle=True)\n",
    "    \n",
    "    # Reconstruction using Filtered Back Projection (FBP)\n",
    "    reconstructed_image = iradon(sinogram, theta=theta, filter_name=filter_type, circle=True)\n",
    "    \n",
    "    # Plot the results\n",
    "    fig, axes = plt.subplots(1, 4, figsize=(16, 4))\n",
    "    ax = axes.ravel()\n",
    "    \n",
    "    # Plot the original phantom\n",
    "    ax[0].set_title(\"Original Phantom\")\n",
    "    ax[0].imshow(phantom, cmap='gray')\n",
    "    ax[0].axis('off')\n",
    "    \n",
    "    # Plot the sinogram with a vertical line indicating the selected projection\n",
    "    ax[1].set_title(f\"Sinogram (Angles: {num_angles})\")\n",
    "    ax[1].imshow(sinogram, cmap='gray', aspect='auto')\n",
    "    ax[1].axvline(x=selected_projection, color='red', linestyle='--')\n",
    "    ax[1].set_xlabel(\"Projection angle (index)\")\n",
    "    ax[1].set_ylabel(\"Projection position (pixels)\")\n",
    "    \n",
    "    # Plot the reconstructed image\n",
    "    ax[2].set_title(f\"Reconstruction\\n(Filter: {filter_type})\")\n",
    "    ax[2].imshow(reconstructed_image, cmap='gray')\n",
    "    ax[2].axis('off')\n",
    "    \n",
    "    # Plot the selected projection line\n",
    "    projection_data = sinogram[:, selected_projection]\n",
    "    ax[3].set_title(f\"Projection at Angle {theta[selected_projection]:.1f}°\")\n",
    "    ax[3].plot(projection_data, color='blue')\n",
    "    ax[3].set_xlabel(\"Position (pixels)\")\n",
    "    ax[3].set_ylabel(\"Intensity\")\n",
    "    \n",
    "    plt.tight_layout()\n",
    "    plt.show()\n",
    "\n",
    "# Interactive widgets with dynamic slider for selected_projection\n",
    "num_angles_slider = IntSlider(value=30, min=1, max=256, step=1, description=\"Number of Angles\")\n",
    "filter_type_dropdown = Dropdown(\n",
    "    options=[\"ramp\", \"shepp-logan\", \"cosine\", \"hamming\", \"hann\", None],\n",
    "    value=\"ramp\",\n",
    "    description=\"Filter\"\n",
    ")\n",
    "\n",
    "# Function to update the max value of selected_projection slider\n",
    "def update_selected_projection_slider(num_angles):\n",
    "    selected_projection_slider.max = max(0, num_angles - 1)\n",
    "\n",
    "# Initialize selected_projection slider\n",
    "selected_projection_slider = IntSlider(value=0, min=0, max=29, step=1, description=\"Projection Index\")\n",
    "\n",
    "# Set up the interactivity with dynamic dependency\n",
    "interactive_plot = interactive_output(\n",
    "    simulate_reconstruction,\n",
    "    {'num_angles': num_angles_slider,\n",
    "     'filter_type': filter_type_dropdown,\n",
    "     'selected_projection': selected_projection_slider}\n",
    ")\n",
    "\n",
    "# Link num_angles to selected_projection max update\n",
    "num_angles_slider.observe(lambda change: update_selected_projection_slider(change['new']), names='value')\n"
   ]
  },
  {
   "cell_type": "markdown",
   "metadata": {},
   "source": [
    "* Move index of selected projection to 0 (or below number of projections) when decreasing number of projections"
   ]
  },
  {
   "cell_type": "code",
   "execution_count": 22,
   "metadata": {},
   "outputs": [
    {
     "data": {
      "application/vnd.jupyter.widget-view+json": {
       "model_id": "a19e68de812044c38aad4fbfe762730a",
       "version_major": 2,
       "version_minor": 0
      },
      "text/plain": [
       "IntSlider(value=30, description='Number of Angles', max=256, min=1)"
      ]
     },
     "metadata": {},
     "output_type": "display_data"
    },
    {
     "data": {
      "application/vnd.jupyter.widget-view+json": {
       "model_id": "24e86b3ab940428d97a03dd05ee1201d",
       "version_major": 2,
       "version_minor": 0
      },
      "text/plain": [
       "Dropdown(description='Filter', options=('ramp', 'shepp-logan', 'cosine', 'hamming', 'hann', None), value='ramp…"
      ]
     },
     "metadata": {},
     "output_type": "display_data"
    },
    {
     "data": {
      "application/vnd.jupyter.widget-view+json": {
       "model_id": "20573c62b62b44ee9a1b48e6388c8faf",
       "version_major": 2,
       "version_minor": 0
      },
      "text/plain": [
       "IntSlider(value=0, description='Projection Index', max=29)"
      ]
     },
     "metadata": {},
     "output_type": "display_data"
    },
    {
     "data": {
      "application/vnd.jupyter.widget-view+json": {
       "model_id": "3d52b3b585524552b255a5934e8d8aa8",
       "version_major": 2,
       "version_minor": 0
      },
      "text/plain": [
       "Output()"
      ]
     },
     "metadata": {},
     "output_type": "display_data"
    }
   ],
   "source": [
    "\n",
    "# Display all widgets and output\n",
    "display(num_angles_slider, filter_type_dropdown, selected_projection_slider, interactive_plot)\n"
   ]
  }
 ],
 "metadata": {
  "kernelspec": {
   "display_name": "ct-simple",
   "language": "python",
   "name": "python3"
  },
  "language_info": {
   "codemirror_mode": {
    "name": "ipython",
    "version": 3
   },
   "file_extension": ".py",
   "mimetype": "text/x-python",
   "name": "python",
   "nbconvert_exporter": "python",
   "pygments_lexer": "ipython3",
   "version": "3.9.0"
  }
 },
 "nbformat": 4,
 "nbformat_minor": 2
}
